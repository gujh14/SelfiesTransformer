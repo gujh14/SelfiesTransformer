{
 "cells": [
  {
   "cell_type": "code",
   "execution_count": 1,
   "metadata": {},
   "outputs": [],
   "source": [
    "import pandas as pd\n",
    "import numpy as np\n",
    "\n",
    "import selfies as sf\n",
    "import rdkit\n",
    "\n",
    "import pickle\n",
    "import os\n",
    "\n",
    "import matplotlib.pyplot as plt\n",
    "\n",
    "import seaborn as sns"
   ]
  },
  {
   "cell_type": "markdown",
   "metadata": {},
   "source": [
    "# Example code to process MoleculeNet datasets\n",
    "This code will convert dataset files into python pickle files.\n",
    "Read README.md file to download CSV files of dataset."
   ]
  },
  {
   "cell_type": "markdown",
   "metadata": {},
   "source": [
    "## Universal functions"
   ]
  },
  {
   "cell_type": "code",
   "execution_count": 2,
   "metadata": {},
   "outputs": [],
   "source": [
    "PICKLED_DATASET_DIR = \"./dataset_pickles\""
   ]
  },
  {
   "cell_type": "code",
   "execution_count": 3,
   "metadata": {},
   "outputs": [],
   "source": [
    "def smiles2selfies(smiles_list, verbose=True):\n",
    "    '''\n",
    "    smiles_list: list of SMILES\n",
    "    verbose: whether to print error messages\n",
    "    \n",
    "    outputs a list of SELFIES\n",
    "    '''\n",
    "    selfies= []\n",
    "    # error_count = 0\n",
    "    for i in range(len(smiles_list)):\n",
    "        try:\n",
    "            selfies.append(sf.encoder(smiles_list[i]))\n",
    "        except:\n",
    "            selfies.append(None)\n",
    "            # error_count += 1\n",
    "            if verbose:\n",
    "                print(f\"Converting error at {i}:{smiles_list[i]}\")\n",
    "    return selfies"
   ]
  },
  {
   "cell_type": "code",
   "execution_count": 4,
   "metadata": {},
   "outputs": [],
   "source": [
    "def get_selfies_length(x):\n",
    "    try:\n",
    "        return sf.len_selfies(x)\n",
    "    except:\n",
    "        return pd.NA"
   ]
  },
  {
   "cell_type": "code",
   "execution_count": 5,
   "metadata": {},
   "outputs": [],
   "source": [
    "def encode_selfies(selfies_string, vocab_stoi, max_len):\n",
    "    label, _ = sf.selfies_to_encoding(\n",
    "        selfies=selfies_string,\n",
    "        vocab_stoi=vocab_stoi,\n",
    "        pad_to_len=max_len,\n",
    "        enc_type='both')\n",
    "    return label"
   ]
  },
  {
   "cell_type": "code",
   "execution_count": 6,
   "metadata": {},
   "outputs": [],
   "source": [
    "def plot_data_statistics(csv_path, smiles_col_name, label_col_name, task_type='classification'):\n",
    "    dataset = pd.read_csv(csv_path)\n",
    "    dataset['selfies'] = smiles2selfies(dataset[smiles_col_name], verbose=False)\n",
    "    dataset['selfies_length'] = list(map(get_selfies_length, dataset['selfies']))\n",
    "    print(\"Histogram of SELFIES length in the dataset\")\n",
    "    plt.hist(dataset['selfies_length'].dropna(), bins=50)\n",
    "    plt.show()\n",
    "    print(\"Plot of Label distribution\")\n",
    "    if task_type=='classification':\n",
    "        sns.countplot(x=label_col_name, data=dataset)\n",
    "    elif task_type=='regression':\n",
    "        sns.histplot(list(dataset[label_col_name]), bins=50)\n",
    "    else:\n",
    "        print(\"Error: Wrong task type!\")"
   ]
  },
  {
   "cell_type": "code",
   "execution_count": 7,
   "metadata": {},
   "outputs": [],
   "source": [
    "def process_dataset(csv_path, smiles_col_name, label_col_name, max_len=100, dataset_name='bbbp'):\n",
    "    print(\">>> Start processing dataset..\")\n",
    "    dataset = pd.read_csv(csv_path)\n",
    "    dataset['selfies'] = smiles2selfies(dataset[smiles_col_name], verbose=True)\n",
    "    dataset['selfies_length'] = list(map(get_selfies_length, dataset['selfies']))\n",
    "\n",
    "    if dataset.isna().sum().sum(): # if error\n",
    "        dataset.dropna(inplace=True)\n",
    "    dataset.reset_index(drop=True, inplace=True)\n",
    "    dataset.drop(dataset[dataset['selfies_length'] > 100].index, inplace=True)\n",
    "    X, y = list(dataset['selfies']), list(dataset[label_col_name])\n",
    "    \n",
    "    alphabets = sf.get_alphabet_from_selfies(X)\n",
    "    alphabets.add(\"[nop]\") # for padding\n",
    "    alphabets.add(\".\")\n",
    "    alphabets = list(sorted(alphabets))\n",
    "    \n",
    "    symbol2idx = {s: i for i, s in enumerate(alphabets)}\n",
    "    \n",
    "    if not os.path.exists(PICKLED_DATASET_DIR):\n",
    "        os.makedirs(PICKLED_DATASET_DIR)\n",
    "\n",
    "    _name1 = \"symbol2idx_\"+dataset_name+\".pickle\"\n",
    "    _name1 = os.path.join(PICKLED_DATASET_DIR, _name1)\n",
    "    with open(_name1, \"wb\") as f:\n",
    "        pickle.dump(symbol2idx, f)\n",
    "    \n",
    "    X_encoded = []\n",
    "    for x in X:\n",
    "        X_encoded.append(encode_selfies(x, symbol2idx, max_len))\n",
    "    \n",
    "    _name2 = dataset_name+\"_data.pickle\"\n",
    "    _name2 = os.path.join(PICKLED_DATASET_DIR, _name2)\n",
    "    _name3 = dataset_name+\"_label.pickle\"\n",
    "    _name3 = os.path.join(PICKLED_DATASET_DIR, _name3)\n",
    "    with open(_name2, \"wb\") as f:\n",
    "        pickle.dump(X_encoded, f)\n",
    "    with open(_name3, \"wb\") as f:\n",
    "        pickle.dump(y, f)\n",
    "    print(\"Dataset written in \"+PICKLED_DATASET_DIR+\" as python pickle files\")\n",
    "    print(\"- \"+_name1)\n",
    "    print(\"- \"+_name2)\n",
    "    print(\"- \"+_name3)\n",
    "    print(\">>> Finished processing.\")"
   ]
  },
  {
   "cell_type": "markdown",
   "metadata": {},
   "source": [
    "## BBBP\n",
    "binary classification"
   ]
  },
  {
   "cell_type": "code",
   "execution_count": 8,
   "metadata": {},
   "outputs": [
    {
     "data": {
      "text/html": [
       "<div>\n",
       "<style scoped>\n",
       "    .dataframe tbody tr th:only-of-type {\n",
       "        vertical-align: middle;\n",
       "    }\n",
       "\n",
       "    .dataframe tbody tr th {\n",
       "        vertical-align: top;\n",
       "    }\n",
       "\n",
       "    .dataframe thead th {\n",
       "        text-align: right;\n",
       "    }\n",
       "</style>\n",
       "<table border=\"1\" class=\"dataframe\">\n",
       "  <thead>\n",
       "    <tr style=\"text-align: right;\">\n",
       "      <th></th>\n",
       "      <th>CMPD_CHEMBLID</th>\n",
       "      <th>exp</th>\n",
       "      <th>smiles</th>\n",
       "    </tr>\n",
       "  </thead>\n",
       "  <tbody>\n",
       "    <tr>\n",
       "      <th>0</th>\n",
       "      <td>CHEMBL596271</td>\n",
       "      <td>3.54</td>\n",
       "      <td>Cn1c(CN2CCN(CC2)c3ccc(Cl)cc3)nc4ccccc14</td>\n",
       "    </tr>\n",
       "    <tr>\n",
       "      <th>1</th>\n",
       "      <td>CHEMBL1951080</td>\n",
       "      <td>-1.18</td>\n",
       "      <td>COc1cc(OC)c(cc1NC(=O)CSCC(=O)O)S(=O)(=O)N2C(C)...</td>\n",
       "    </tr>\n",
       "    <tr>\n",
       "      <th>2</th>\n",
       "      <td>CHEMBL1771</td>\n",
       "      <td>3.69</td>\n",
       "      <td>COC(=O)[C@@H](N1CCc2sccc2C1)c3ccccc3Cl</td>\n",
       "    </tr>\n",
       "    <tr>\n",
       "      <th>3</th>\n",
       "      <td>CHEMBL234951</td>\n",
       "      <td>3.37</td>\n",
       "      <td>OC[C@H](O)CN1C(=O)C(Cc2ccccc12)NC(=O)c3cc4cc(C...</td>\n",
       "    </tr>\n",
       "    <tr>\n",
       "      <th>4</th>\n",
       "      <td>CHEMBL565079</td>\n",
       "      <td>3.10</td>\n",
       "      <td>Cc1cccc(C[C@H](NC(=O)c2cc(nn2C)C(C)(C)C)C(=O)N...</td>\n",
       "    </tr>\n",
       "    <tr>\n",
       "      <th>...</th>\n",
       "      <td>...</td>\n",
       "      <td>...</td>\n",
       "      <td>...</td>\n",
       "    </tr>\n",
       "    <tr>\n",
       "      <th>4195</th>\n",
       "      <td>CHEMBL496929</td>\n",
       "      <td>3.85</td>\n",
       "      <td>OCCc1ccc(NC(=O)c2cc3cc(Cl)ccc3[nH]2)cc1</td>\n",
       "    </tr>\n",
       "    <tr>\n",
       "      <th>4196</th>\n",
       "      <td>CHEMBL199147</td>\n",
       "      <td>3.21</td>\n",
       "      <td>CCN(C1CCN(CCC(c2ccc(F)cc2)c3ccc(F)cc3)CC1)C(=O...</td>\n",
       "    </tr>\n",
       "    <tr>\n",
       "      <th>4197</th>\n",
       "      <td>CHEMBL15932</td>\n",
       "      <td>2.10</td>\n",
       "      <td>COc1cccc2[nH]ncc12</td>\n",
       "    </tr>\n",
       "    <tr>\n",
       "      <th>4198</th>\n",
       "      <td>CHEMBL558748</td>\n",
       "      <td>2.65</td>\n",
       "      <td>Clc1ccc2ncccc2c1C(=O)NCC3CCCCC3</td>\n",
       "    </tr>\n",
       "    <tr>\n",
       "      <th>4199</th>\n",
       "      <td>CHEMBL237889</td>\n",
       "      <td>2.70</td>\n",
       "      <td>CN1C(=O)C=C(CCc2ccc3ccccc3c2)N=C1N</td>\n",
       "    </tr>\n",
       "  </tbody>\n",
       "</table>\n",
       "<p>4200 rows × 3 columns</p>\n",
       "</div>"
      ],
      "text/plain": [
       "      CMPD_CHEMBLID   exp                                             smiles\n",
       "0      CHEMBL596271  3.54            Cn1c(CN2CCN(CC2)c3ccc(Cl)cc3)nc4ccccc14\n",
       "1     CHEMBL1951080 -1.18  COc1cc(OC)c(cc1NC(=O)CSCC(=O)O)S(=O)(=O)N2C(C)...\n",
       "2        CHEMBL1771  3.69             COC(=O)[C@@H](N1CCc2sccc2C1)c3ccccc3Cl\n",
       "3      CHEMBL234951  3.37  OC[C@H](O)CN1C(=O)C(Cc2ccccc12)NC(=O)c3cc4cc(C...\n",
       "4      CHEMBL565079  3.10  Cc1cccc(C[C@H](NC(=O)c2cc(nn2C)C(C)(C)C)C(=O)N...\n",
       "...             ...   ...                                                ...\n",
       "4195   CHEMBL496929  3.85            OCCc1ccc(NC(=O)c2cc3cc(Cl)ccc3[nH]2)cc1\n",
       "4196   CHEMBL199147  3.21  CCN(C1CCN(CCC(c2ccc(F)cc2)c3ccc(F)cc3)CC1)C(=O...\n",
       "4197    CHEMBL15932  2.10                                 COc1cccc2[nH]ncc12\n",
       "4198   CHEMBL558748  2.65                    Clc1ccc2ncccc2c1C(=O)NCC3CCCCC3\n",
       "4199   CHEMBL237889  2.70                 CN1C(=O)C=C(CCc2ccc3ccccc3c2)N=C1N\n",
       "\n",
       "[4200 rows x 3 columns]"
      ]
     },
     "execution_count": 8,
     "metadata": {},
     "output_type": "execute_result"
    }
   ],
   "source": [
    "pd.read_csv(\"./dataset/lipophilicity/raw/Lipophilicity.csv\")"
   ]
  },
  {
   "cell_type": "code",
   "execution_count": 9,
   "metadata": {},
   "outputs": [],
   "source": [
    "bbbp_csv = \"./dataset/bbbp/raw/BBBP.csv\""
   ]
  },
  {
   "cell_type": "code",
   "execution_count": 10,
   "metadata": {},
   "outputs": [
    {
     "name": "stdout",
     "output_type": "stream",
     "text": [
      "Histogram of SELFIES length in the dataset\n"
     ]
    },
    {
     "data": {
      "image/png": "[encoded data removed]",
      "text/plain": [
       "<Figure size 432x288 with 1 Axes>"
      ]
     },
     "metadata": {
      "needs_background": "light"
     },
     "output_type": "display_data"
    },
    {
     "name": "stdout",
     "output_type": "stream",
     "text": [
      "Plot of Label distribution\n"
     ]
    },
    {
     "data": {
      "image/png": "[encoded data removed]",
      "text/plain": [
       "<Figure size 432x288 with 1 Axes>"
      ]
     },
     "metadata": {
      "needs_background": "light"
     },
     "output_type": "display_data"
    }
   ],
   "source": [
    "plot_data_statistics(bbbp_csv, smiles_col_name='smiles', label_col_name='p_np', task_type='classification')"
   ]
  },
  {
   "cell_type": "code",
   "execution_count": 11,
   "metadata": {},
   "outputs": [
    {
     "name": "stdout",
     "output_type": "stream",
     "text": [
      ">>> Start processing dataset..\n",
      "Converting error at 59:O=N([O-])C1=C(CN=C1NCCSCc2ncccc2)Cc3ccccc3\n",
      "Converting error at 61:c1(nc(NC(N)=[NH2])sc1)CSCCNC(=[NH]C#N)NC\n",
      "Converting error at 391:Cc1nc(sc1)\\[NH]=C(\\N)N\n",
      "Converting error at 519:c1(CC(N2[C@H](CN(CC2)C(=O)C)C[N@]2CC[C@H](O)C2)=O)ccc(N(=O)=O)cc1\n",
      "Converting error at 541:c1(CC(N2[C@H](CN(CC2)C(=O)C)C[N@]2CC[C@H](O)C2)=O)cc(ccc1)N(=O)=O\n",
      "Converting error at 614:s1cc(CSCCN\\C(NC)=[NH]\\C#N)nc1\\[NH]=C(\\N)N\n",
      "Converting error at 642:c1c(c(ncc1)CSCCN\\C(=[NH]\\C#N)NCC)Br\n",
      "Converting error at 645:n1c(csc1\\[NH]=C(\\N)N)c1ccccc1\n",
      "Converting error at 646:n1c(csc1\\[NH]=C(\\N)N)c1cccc(c1)N\n",
      "Converting error at 647:n1c(csc1\\[NH]=C(\\N)N)c1cccc(c1)NC(C)=O\n",
      "Converting error at 648:n1c(csc1\\[NH]=C(\\N)N)c1cccc(c1)N\\C(NC)=[NH]\\C#N\n",
      "Converting error at 649:s1cc(nc1\\[NH]=C(\\N)N)C\n",
      "Converting error at 685:c1(cc(N\\C(=[NH]\\c2cccc(c2)CC)C)ccc1)CC\n",
      "Converting error at 1417:NC(=N)c1ccc(o1)c2ccccc2N(=O)=O\n",
      "Dataset written in ./dataset_pickles as python pickle files\n",
      "- ./dataset_pickles/symbol2idx_bbbp.pickle\n",
      "- ./dataset_pickles/bbbp_data.pickle\n",
      "- ./dataset_pickles/bbbp_label.pickle\n",
      ">>> Finished processing.\n"
     ]
    }
   ],
   "source": [
    "process_dataset(bbbp_csv, smiles_col_name='smiles', label_col_name='p_np', max_len=100, dataset_name='bbbp')"
   ]
  },
  {
   "cell_type": "markdown",
   "metadata": {},
   "source": [
    "## Lipophilicity\n",
    "regression"
   ]
  },
  {
   "cell_type": "code",
   "execution_count": 12,
   "metadata": {},
   "outputs": [
    {
     "data": {
      "text/html": [
       "<div>\n",
       "<style scoped>\n",
       "    .dataframe tbody tr th:only-of-type {\n",
       "        vertical-align: middle;\n",
       "    }\n",
       "\n",
       "    .dataframe tbody tr th {\n",
       "        vertical-align: top;\n",
       "    }\n",
       "\n",
       "    .dataframe thead th {\n",
       "        text-align: right;\n",
       "    }\n",
       "</style>\n",
       "<table border=\"1\" class=\"dataframe\">\n",
       "  <thead>\n",
       "    <tr style=\"text-align: right;\">\n",
       "      <th></th>\n",
       "      <th>CMPD_CHEMBLID</th>\n",
       "      <th>exp</th>\n",
       "      <th>smiles</th>\n",
       "    </tr>\n",
       "  </thead>\n",
       "  <tbody>\n",
       "    <tr>\n",
       "      <th>0</th>\n",
       "      <td>CHEMBL596271</td>\n",
       "      <td>3.54</td>\n",
       "      <td>Cn1c(CN2CCN(CC2)c3ccc(Cl)cc3)nc4ccccc14</td>\n",
       "    </tr>\n",
       "    <tr>\n",
       "      <th>1</th>\n",
       "      <td>CHEMBL1951080</td>\n",
       "      <td>-1.18</td>\n",
       "      <td>COc1cc(OC)c(cc1NC(=O)CSCC(=O)O)S(=O)(=O)N2C(C)...</td>\n",
       "    </tr>\n",
       "    <tr>\n",
       "      <th>2</th>\n",
       "      <td>CHEMBL1771</td>\n",
       "      <td>3.69</td>\n",
       "      <td>COC(=O)[C@@H](N1CCc2sccc2C1)c3ccccc3Cl</td>\n",
       "    </tr>\n",
       "    <tr>\n",
       "      <th>3</th>\n",
       "      <td>CHEMBL234951</td>\n",
       "      <td>3.37</td>\n",
       "      <td>OC[C@H](O)CN1C(=O)C(Cc2ccccc12)NC(=O)c3cc4cc(C...</td>\n",
       "    </tr>\n",
       "    <tr>\n",
       "      <th>4</th>\n",
       "      <td>CHEMBL565079</td>\n",
       "      <td>3.10</td>\n",
       "      <td>Cc1cccc(C[C@H](NC(=O)c2cc(nn2C)C(C)(C)C)C(=O)N...</td>\n",
       "    </tr>\n",
       "    <tr>\n",
       "      <th>...</th>\n",
       "      <td>...</td>\n",
       "      <td>...</td>\n",
       "      <td>...</td>\n",
       "    </tr>\n",
       "    <tr>\n",
       "      <th>4195</th>\n",
       "      <td>CHEMBL496929</td>\n",
       "      <td>3.85</td>\n",
       "      <td>OCCc1ccc(NC(=O)c2cc3cc(Cl)ccc3[nH]2)cc1</td>\n",
       "    </tr>\n",
       "    <tr>\n",
       "      <th>4196</th>\n",
       "      <td>CHEMBL199147</td>\n",
       "      <td>3.21</td>\n",
       "      <td>CCN(C1CCN(CCC(c2ccc(F)cc2)c3ccc(F)cc3)CC1)C(=O...</td>\n",
       "    </tr>\n",
       "    <tr>\n",
       "      <th>4197</th>\n",
       "      <td>CHEMBL15932</td>\n",
       "      <td>2.10</td>\n",
       "      <td>COc1cccc2[nH]ncc12</td>\n",
       "    </tr>\n",
       "    <tr>\n",
       "      <th>4198</th>\n",
       "      <td>CHEMBL558748</td>\n",
       "      <td>2.65</td>\n",
       "      <td>Clc1ccc2ncccc2c1C(=O)NCC3CCCCC3</td>\n",
       "    </tr>\n",
       "    <tr>\n",
       "      <th>4199</th>\n",
       "      <td>CHEMBL237889</td>\n",
       "      <td>2.70</td>\n",
       "      <td>CN1C(=O)C=C(CCc2ccc3ccccc3c2)N=C1N</td>\n",
       "    </tr>\n",
       "  </tbody>\n",
       "</table>\n",
       "<p>4200 rows × 3 columns</p>\n",
       "</div>"
      ],
      "text/plain": [
       "      CMPD_CHEMBLID   exp                                             smiles\n",
       "0      CHEMBL596271  3.54            Cn1c(CN2CCN(CC2)c3ccc(Cl)cc3)nc4ccccc14\n",
       "1     CHEMBL1951080 -1.18  COc1cc(OC)c(cc1NC(=O)CSCC(=O)O)S(=O)(=O)N2C(C)...\n",
       "2        CHEMBL1771  3.69             COC(=O)[C@@H](N1CCc2sccc2C1)c3ccccc3Cl\n",
       "3      CHEMBL234951  3.37  OC[C@H](O)CN1C(=O)C(Cc2ccccc12)NC(=O)c3cc4cc(C...\n",
       "4      CHEMBL565079  3.10  Cc1cccc(C[C@H](NC(=O)c2cc(nn2C)C(C)(C)C)C(=O)N...\n",
       "...             ...   ...                                                ...\n",
       "4195   CHEMBL496929  3.85            OCCc1ccc(NC(=O)c2cc3cc(Cl)ccc3[nH]2)cc1\n",
       "4196   CHEMBL199147  3.21  CCN(C1CCN(CCC(c2ccc(F)cc2)c3ccc(F)cc3)CC1)C(=O...\n",
       "4197    CHEMBL15932  2.10                                 COc1cccc2[nH]ncc12\n",
       "4198   CHEMBL558748  2.65                    Clc1ccc2ncccc2c1C(=O)NCC3CCCCC3\n",
       "4199   CHEMBL237889  2.70                 CN1C(=O)C=C(CCc2ccc3ccccc3c2)N=C1N\n",
       "\n",
       "[4200 rows x 3 columns]"
      ]
     },
     "execution_count": 12,
     "metadata": {},
     "output_type": "execute_result"
    }
   ],
   "source": [
    "pd.read_csv(\"./dataset/lipophilicity/raw/Lipophilicity.csv\")"
   ]
  },
  {
   "cell_type": "code",
   "execution_count": 13,
   "metadata": {},
   "outputs": [],
   "source": [
    "lipo_csv = \"./dataset/lipophilicity/raw/Lipophilicity.csv\""
   ]
  },
  {
   "cell_type": "code",
   "execution_count": 14,
   "metadata": {},
   "outputs": [
    {
     "name": "stdout",
     "output_type": "stream",
     "text": [
      "Histogram of SELFIES length in the dataset\n"
     ]
    },
    {
     "data": {
      "image/png": "[encoded data removed]",
      "text/plain": [
       "<Figure size 432x288 with 1 Axes>"
      ]
     },
     "metadata": {
      "needs_background": "light"
     },
     "output_type": "display_data"
    },
    {
     "name": "stdout",
     "output_type": "stream",
     "text": [
      "Plot of Label distribution\n"
     ]
    },
    {
     "data": {
      "image/png": "[encoded data removed]",
      "text/plain": [
       "<Figure size 432x288 with 1 Axes>"
      ]
     },
     "metadata": {
      "needs_background": "light"
     },
     "output_type": "display_data"
    }
   ],
   "source": [
    "plot_data_statistics(lipo_csv, smiles_col_name='smiles', label_col_name='exp', task_type='regression')"
   ]
  },
  {
   "cell_type": "code",
   "execution_count": 15,
   "metadata": {},
   "outputs": [
    {
     "name": "stdout",
     "output_type": "stream",
     "text": [
      ">>> Start processing dataset..\n",
      "Dataset written in ./dataset_pickles as python pickle files\n",
      "- ./dataset_pickles/symbol2idx_lipo.pickle\n",
      "- ./dataset_pickles/lipo_data.pickle\n",
      "- ./dataset_pickles/lipo_label.pickle\n",
      ">>> Finished processing.\n"
     ]
    }
   ],
   "source": [
    "process_dataset(lipo_csv, smiles_col_name='smiles', label_col_name='exp', max_len=100, dataset_name='lipo')"
   ]
  },
  {
   "cell_type": "code",
   "execution_count": null,
   "metadata": {},
   "outputs": [],
   "source": []
  }
 ],
 "metadata": {
  "kernelspec": {
   "display_name": "testenv",
   "language": "python",
   "name": "testenv"
  },
  "language_info": {
   "codemirror_mode": {
    "name": "ipython",
    "version": 3
   },
   "file_extension": ".py",
   "mimetype": "text/x-python",
   "name": "python",
   "nbconvert_exporter": "python",
   "pygments_lexer": "ipython3",
   "version": "3.8.13"
  }
 },
 "nbformat": 4,
 "nbformat_minor": 4
}
